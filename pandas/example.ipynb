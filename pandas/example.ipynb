{
 "cells": [
  {
   "cell_type": "code",
   "execution_count": null,
   "metadata": {
    "collapsed": true
   },
   "outputs": [],
   "source": [
    "# 导入所需库\n",
    "import pandas as pd\n",
    "import numpy as np\n",
    "from pandas import Series, DataFrame\n",
    "from datetime import datetime"
   ]
  },
  {
   "cell_type": "code",
   "execution_count": null,
   "metadata": {
    "collapsed": true
   },
   "outputs": [],
   "source": [
    "# 导入数据文件（excel）\n",
    "# 6month.xlsx是6月份用户订单数据，7month.xlsx是7月份用户订单数据，注册用户数据.xls是用户信息数据\n",
    "df_6 = pd.read_excel(\"6month.xlsx\")\n",
    "df_7 = pd.read_excel(\"7month.xlsx\")\n",
    "df_users = pd.read_excel(u\"注册用户数据.xls\")"
   ]
  },
  {
   "cell_type": "code",
   "execution_count": null,
   "metadata": {
    "collapsed": true
   },
   "outputs": [],
   "source": [
    "# 定义时间类型变量\n",
    "six_m = pd.to_datetime('2017-06-01')\n",
    "senven_m = pd.to_datetime('2017-07-01')\n",
    "eight_m = pd.to_datetime('2017-08-01')"
   ]
  },
  {
   "cell_type": "code",
   "execution_count": null,
   "metadata": {
    "collapsed": true
   },
   "outputs": [],
   "source": [
    "# 在用户数据表中筛选6月（7月）注册用户\n",
    "user_6 = df_users[(df_users[u'注册时间'] >= six_m) & (df_users[u'注册时间'] < senven_m)][[u'注册时间',u'药店名称']]\n",
    "user_7 = df_users[(df_users[u'注册时间'] >= senven_m) & (df_users[u'注册时间'] < eight_m)][[u'注册时间',u'药店名称']]"
   ]
  },
  {
   "cell_type": "code",
   "execution_count": null,
   "metadata": {
    "collapsed": true
   },
   "outputs": [],
   "source": [
    "# 连接筛选后的表和6月（7月）订单表，找出6月（7月）注册用户的订单\n",
    "sheet_6 = pd.merge(df_6, user_6, left_on=u'下单用户', right_on=u'药店名称')\n",
    "sheet_7 = pd.merge(df_7, user_7, left_on=u'下单用户', right_on=u'药店名称')"
   ]
  },
  {
   "cell_type": "raw",
   "metadata": {},
   "source": [
    "# 下面是获取用户前三笔数据"
   ]
  },
  {
   "cell_type": "code",
   "execution_count": null,
   "metadata": {
    "collapsed": true
   },
   "outputs": [],
   "source": [
    "# 修改时间数据类型，便于进行时间比较\n",
    "sheet_6[u'下单时间'] = pd.to_datetime(sheet_6[u'下单时间'])\n",
    "sheet_7[u'下单时间'] = pd.to_datetime(sheet_7[u'下单时间'])"
   ]
  },
  {
   "cell_type": "code",
   "execution_count": null,
   "metadata": {
    "collapsed": true
   },
   "outputs": [],
   "source": [
    "def top(df, n=3, column=u'下单时间'):\n",
    "    return df.sort_values(by=column)[0:n]"
   ]
  },
  {
   "cell_type": "code",
   "execution_count": null,
   "metadata": {
    "collapsed": true
   },
   "outputs": [],
   "source": [
    "s6 = sheet_6.groupby(u'下单用户').apply(top)"
   ]
  },
  {
   "cell_type": "raw",
   "metadata": {},
   "source": [
    "s7 = sheet_7.groupby(u'下单用户').apply(top)"
   ]
  },
  {
   "cell_type": "code",
   "execution_count": null,
   "metadata": {
    "collapsed": true
   },
   "outputs": [],
   "source": [
    "# 导出表格到excel文件\n",
    "writer = pd.ExcelWriter('output.xlsx')\n",
    "sheet_6.to_excel(writer,u'6月新用户订单')\n",
    "sheet_7.to_excel(writer,u'7月新用户订单')\n",
    "s6.to_excel(writer,u'6月新用户前三笔订单')\n",
    "s7.to_excel(writer,u'7月新用户前三笔订单')\n",
    "writer.save()"
   ]
  },
  {
   "cell_type": "code",
   "execution_count": null,
   "metadata": {
    "collapsed": true
   },
   "outputs": [],
   "source": [
    "# 分别获取每个用户前三笔数据"
   ]
  },
  {
   "cell_type": "code",
   "execution_count": null,
   "metadata": {
    "collapsed": true
   },
   "outputs": [],
   "source": [
    "def get_one(df, n=0, column=u'下单时间'):\n",
    "    return df.sort_values(by=column)[n:n+1]"
   ]
  },
  {
   "cell_type": "code",
   "execution_count": null,
   "metadata": {
    "collapsed": true
   },
   "outputs": [],
   "source": [
    "s6_1 = sheet_6.groupby(u'下单用户').apply(get_one, n=0)\n",
    "s6_2 = sheet_6.groupby(u'下单用户').apply(get_one, n=1)\n",
    "s6_3 = sheet_6.groupby(u'下单用户').apply(get_one, n=2)"
   ]
  },
  {
   "cell_type": "code",
   "execution_count": null,
   "metadata": {
    "collapsed": true
   },
   "outputs": [],
   "source": [
    "s7_1 = sheet_7.groupby(u'下单用户').apply(get_one, n=0)\n",
    "s7_2 = sheet_7.groupby(u'下单用户').apply(get_one, n=1)\n",
    "s7_3 = sheet_7.groupby(u'下单用户').apply(get_one, n=2)"
   ]
  },
  {
   "cell_type": "code",
   "execution_count": null,
   "metadata": {
    "collapsed": true
   },
   "outputs": [],
   "source": [
    "writer = pd.ExcelWriter('output.xlsx')\n",
    "s6_1.to_excel(writer,u'6月新用户第一笔订单')\n",
    "s6_2.to_excel(writer,u'6月新用户第二笔订单')\n",
    "s6_3.to_excel(writer,u'6月新用户第三笔订单')\n",
    "s7_1.to_excel(writer,u'7月新用户第一笔订单')\n",
    "s7_2.to_excel(writer,u'7月新用户第二笔订单')\n",
    "s7_3.to_excel(writer,u'7月新用户第三笔订单')\n",
    "writer.save()"
   ]
  }
 ],
 "metadata": {
  "kernelspec": {
   "display_name": "Python 2",
   "language": "python",
   "name": "python2"
  },
  "language_info": {
   "codemirror_mode": {
    "name": "ipython",
    "version": 2
   },
   "file_extension": ".py",
   "mimetype": "text/x-python",
   "name": "python",
   "nbconvert_exporter": "python",
   "pygments_lexer": "ipython2",
   "version": "2.7.13"
  }
 },
 "nbformat": 4,
 "nbformat_minor": 2
}
