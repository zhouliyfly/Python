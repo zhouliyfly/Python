{
 "cells": [
  {
   "cell_type": "markdown",
   "metadata": {
    "slideshow": {
     "slide_type": "slide"
    }
   },
   "source": [
    "# 实例1 表的联合查询"
   ]
  },
  {
   "cell_type": "code",
   "execution_count": null,
   "metadata": {
    "collapsed": true,
    "slideshow": {
     "slide_type": "subslide"
    }
   },
   "outputs": [],
   "source": [
    "# 导入所需库\n",
    "import pandas as pd\n",
    "import numpy as np\n",
    "from pandas import Series, DataFrame\n",
    "from datetime import datetime"
   ]
  },
  {
   "cell_type": "code",
   "execution_count": null,
   "metadata": {
    "collapsed": true,
    "slideshow": {
     "slide_type": "subslide"
    }
   },
   "outputs": [],
   "source": [
    "# 导入数据文件（excel）\n",
    "# 6month.xlsx是6月份用户订单数据，7month.xlsx是7月份用户订单数据，注册用户数据.xls是用户信息数据\n",
    "df_6 = pd.read_excel(\"6month.xlsx\")\n",
    "df_7 = pd.read_excel(\"7month.xlsx\")\n",
    "df_users = pd.read_excel(u\"注册用户数据.xls\")"
   ]
  },
  {
   "cell_type": "code",
   "execution_count": null,
   "metadata": {
    "collapsed": true,
    "slideshow": {
     "slide_type": "subslide"
    }
   },
   "outputs": [],
   "source": [
    "# 定义时间类型变量\n",
    "six_m = pd.to_datetime('2017-06-01')\n",
    "senven_m = pd.to_datetime('2017-07-01')\n",
    "eight_m = pd.to_datetime('2017-08-01')"
   ]
  },
  {
   "cell_type": "code",
   "execution_count": null,
   "metadata": {
    "collapsed": true,
    "slideshow": {
     "slide_type": "subslide"
    }
   },
   "outputs": [],
   "source": [
    "# 在用户数据表中筛选6月（7月）注册用户\n",
    "user_6 = df_users[(df_users[u'注册时间'] >= six_m) & (df_users[u'注册时间'] < senven_m)][[u'注册时间',u'药店名称']]\n",
    "user_7 = df_users[(df_users[u'注册时间'] >= senven_m) & (df_users[u'注册时间'] < eight_m)][[u'注册时间',u'药店名称']]"
   ]
  },
  {
   "cell_type": "code",
   "execution_count": null,
   "metadata": {
    "collapsed": true,
    "slideshow": {
     "slide_type": "subslide"
    }
   },
   "outputs": [],
   "source": [
    "# 连接筛选后的表和6月（7月）订单表，找出6月（7月）注册用户的订单\n",
    "sheet_6 = pd.merge(df_6, user_6, left_on=u'下单用户', right_on=u'药店名称')\n",
    "sheet_7 = pd.merge(df_7, user_7, left_on=u'下单用户', right_on=u'药店名称')"
   ]
  },
  {
   "cell_type": "markdown",
   "metadata": {
    "collapsed": true,
    "slideshow": {
     "slide_type": "fragment"
    }
   },
   "source": [
    "# 实例2 分组排序并获取每个分组前三条数据"
   ]
  },
  {
   "cell_type": "code",
   "execution_count": null,
   "metadata": {
    "collapsed": true
   },
   "outputs": [],
   "source": [
    "# 接实例1\n",
    "# 修改时间数据类型，便于进行时间比较\n",
    "sheet_6[u'下单时间'] = pd.to_datetime(sheet_6[u'下单时间'])\n",
    "sheet_7[u'下单时间'] = pd.to_datetime(sheet_7[u'下单时间'])"
   ]
  },
  {
   "cell_type": "code",
   "execution_count": null,
   "metadata": {
    "collapsed": true
   },
   "outputs": [],
   "source": [
    "def top(df, n=3, column=u'下单时间'):\n",
    "    return df.sort_values(by=column)[0:n]"
   ]
  },
  {
   "cell_type": "code",
   "execution_count": null,
   "metadata": {
    "collapsed": true
   },
   "outputs": [],
   "source": [
    "s6 = sheet_6.groupby(u'下单用户').apply(top)"
   ]
  },
  {
   "cell_type": "code",
   "execution_count": null,
   "metadata": {
    "collapsed": true
   },
   "outputs": [],
   "source": [
    "s7 = sheet_7.groupby(u'下单用户').apply(top)"
   ]
  },
  {
   "cell_type": "code",
   "execution_count": null,
   "metadata": {
    "collapsed": true
   },
   "outputs": [],
   "source": [
    "# 导出表格到excel文件\n",
    "writer = pd.ExcelWriter('output.xlsx')\n",
    "sheet_6.to_excel(writer,u'6月新用户订单')\n",
    "sheet_7.to_excel(writer,u'7月新用户订单')\n",
    "s6.to_excel(writer,u'6月新用户前三笔订单')\n",
    "s7.to_excel(writer,u'7月新用户前三笔订单')\n",
    "writer.save()"
   ]
  },
  {
   "cell_type": "code",
   "execution_count": null,
   "metadata": {
    "collapsed": true
   },
   "outputs": [],
   "source": [
    "# 分别获取每个用户前三笔数据"
   ]
  },
  {
   "cell_type": "code",
   "execution_count": null,
   "metadata": {
    "collapsed": true
   },
   "outputs": [],
   "source": [
    "def get_one(df, n=0, column=u'下单时间'):\n",
    "    return df.sort_values(by=column)[n:n+1]"
   ]
  },
  {
   "cell_type": "code",
   "execution_count": null,
   "metadata": {
    "collapsed": true
   },
   "outputs": [],
   "source": [
    "s6_1 = sheet_6.groupby(u'下单用户').apply(get_one, n=0)\n",
    "s6_2 = sheet_6.groupby(u'下单用户').apply(get_one, n=1)\n",
    "s6_3 = sheet_6.groupby(u'下单用户').apply(get_one, n=2)"
   ]
  },
  {
   "cell_type": "code",
   "execution_count": null,
   "metadata": {
    "collapsed": true
   },
   "outputs": [],
   "source": [
    "s7_1 = sheet_7.groupby(u'下单用户').apply(get_one, n=0)\n",
    "s7_2 = sheet_7.groupby(u'下单用户').apply(get_one, n=1)\n",
    "s7_3 = sheet_7.groupby(u'下单用户').apply(get_one, n=2)"
   ]
  },
  {
   "cell_type": "code",
   "execution_count": null,
   "metadata": {
    "collapsed": true
   },
   "outputs": [],
   "source": [
    "writer = pd.ExcelWriter('output.xlsx')\n",
    "s6_1.to_excel(writer,u'6月新用户第一笔订单')\n",
    "s6_2.to_excel(writer,u'6月新用户第二笔订单')\n",
    "s6_3.to_excel(writer,u'6月新用户第三笔订单')\n",
    "s7_1.to_excel(writer,u'7月新用户第一笔订单')\n",
    "s7_2.to_excel(writer,u'7月新用户第二笔订单')\n",
    "s7_3.to_excel(writer,u'7月新用户第三笔订单')\n",
    "writer.save()"
   ]
  },
  {
   "cell_type": "markdown",
   "metadata": {},
   "source": [
    "# 实例3 合并拆单数据，并将数据更新到母单"
   ]
  },
  {
   "cell_type": "code",
   "execution_count": null,
   "metadata": {
    "collapsed": true
   },
   "outputs": [],
   "source": [
    "# 导入数据\n",
    "df = pd.read_excel(\"March.xlsx\")"
   ]
  },
  {
   "cell_type": "code",
   "execution_count": null,
   "metadata": {
    "collapsed": true
   },
   "outputs": [],
   "source": [
    "# 去重\n",
    "df = df.drop_duplicates(u'订单编号')"
   ]
  },
  {
   "cell_type": "code",
   "execution_count": null,
   "metadata": {
    "collapsed": true
   },
   "outputs": [],
   "source": [
    "# 查看列选项3种方式\n",
    "\n",
    "# 利用去重函数\n",
    "df[u'状态'].drop_duplicates()\n",
    "\n",
    "# 用value_counts也可以实现查看，函数表示各值出现的频率\n",
    "df[u'状态'].value_counts()\n",
    "\n",
    "# 用unique查看列选项，不过如果选项是中文会显示编码，不易识别。因而下面用循环打印显示中文\n",
    "for x in df[u'状态'].unique():\n",
    "    print x"
   ]
  },
  {
   "cell_type": "code",
   "execution_count": null,
   "metadata": {
    "collapsed": true
   },
   "outputs": [],
   "source": [
    "# 筛选表\n",
    "status = [u'已完成', u'已拆单', u'订单审核中']\n",
    "df1 = df[df[u'状态'].isin(status)]"
   ]
  },
  {
   "cell_type": "code",
   "execution_count": null,
   "metadata": {
    "collapsed": true
   },
   "outputs": [],
   "source": [
    "# 分别提取母表和子表\n",
    "df_sub = df1[df1[u'订单编号'].str.len()>20]\n",
    "df_mo = df1[df1[u'订单编号'].str.len() == 20]"
   ]
  },
  {
   "cell_type": "code",
   "execution_count": null,
   "metadata": {
    "collapsed": true
   },
   "outputs": [],
   "source": [
    "# 处理字表字段\n",
    "df_sub[u'订单编号'] = df_sub[u'订单编号'].map(lambda x:x[0:-2])"
   ]
  },
  {
   "cell_type": "code",
   "execution_count": null,
   "metadata": {
    "collapsed": true
   },
   "outputs": [],
   "source": [
    "# 字表分组求和\n",
    "df_sub_bak = df_sub.copy() # 备份子单数据，应对新需求\n",
    "df_sub = df_sub.groupby(u'订单编号')[u'总金额',u'优惠金额'].sum()"
   ]
  },
  {
   "cell_type": "code",
   "execution_count": null,
   "metadata": {
    "collapsed": true
   },
   "outputs": [],
   "source": [
    "# 根据子单索引（订单编号）修改母单中对应列的值（总金额和优惠金额）\n",
    "def func_rep1(r):\n",
    "    # 利用get_loc函数，找到子单订单编号在母单中的索引（get_loc是Index类型的函数，根据值查找对应的索引）\n",
    "    # 注意异常处理，当查询失败时返回异常（有异常直接跳过）\n",
    "    try:\n",
    "        i = pd.Index(df_mo[u'订单编号']).get_loc(r)\n",
    "    except:\n",
    "        pass\n",
    "    else:\n",
    "        df_mo.loc[i,[u'总金额']] = df_sub.loc[r,[u'总金额']]\n",
    "        df_mo.loc[i,[u'优惠金额']] = df_sub.loc[r,[u'优惠金额']]\n",
    "df_sub.index.map(func_rep1)"
   ]
  },
  {
   "cell_type": "code",
   "execution_count": null,
   "metadata": {
    "collapsed": true
   },
   "outputs": [],
   "source": [
    "# 另外一种思路\n",
    "# 将母单的索引设置为订单编号，以保持跟子单的类型一致。然后根据索引修改对应值\n",
    "# inplace参数表示直接修改表，而不是返回一张新表\n",
    "df_mo.set_index(u'订单编号', inplace=True)\n",
    "\n",
    "# 函数首先判断订单编号是否在母单索引中。如果在其中则替换相应值\n",
    "def func_rep1(r):\n",
    "    if r in df_mo.index:\n",
    "        df_mo.loc[r,[u'总金额']] = df_sub.loc[r, [u'总金额']]\n",
    "        df_mo.loc[r,[u'优惠金额']] = df_sub.loc[r, [u'优惠金额']]\n",
    "df_sub.index.map(func_rep1)"
   ]
  },
  {
   "cell_type": "code",
   "execution_count": null,
   "metadata": {
    "collapsed": true
   },
   "outputs": [],
   "source": [
    "# 如果要求将子单中存在而母单不存在的数据加入母单，使用下面的函数（对应上面第一种思路）\n",
    "def func_rep2(r):\n",
    "    # 利用get_loc函数，找到子单订单编号在母单中的索引（get_loc是Index类型的函数，根据值查找对应的索引）\n",
    "    # 注意异常处理，当查询失败时返回异常（有异常直接跳过）\n",
    "    i = -1\n",
    "    try:\n",
    "        i = pd.Index(df_mo[u'订单编号']).get_loc(r)\n",
    "    except:\n",
    "        # 找到子单数据合并到母单\n",
    "        tmp = df_sub_bak[df_sub_bak[u'订单编号'] == r]\n",
    "        df_mo.loc[df_mo.index.max()+1] = tmp.iloc[0]\n",
    "    else:\n",
    "        df_mo.loc[i,[u'总金额']] = df_sub.loc[r,[u'总金额']]\n",
    "        df_mo.loc[i,[u'优惠金额']] = df_sub.loc[r,[u'优惠金额']]\n",
    "df_sub.index.map(func_rep2)"
   ]
  },
  {
   "cell_type": "code",
   "execution_count": null,
   "metadata": {
    "collapsed": true
   },
   "outputs": [],
   "source": [
    "# 函数首先判断订单编号是否在母单索引中。如果在其中则替换相应值，否则将整条数据插入母单（对应上面思路2）\n",
    "df_mo.set_index(u'订单编号', inplace=True)\n",
    "def func_rep2(r):\n",
    "    if r in df_mo.index:\n",
    "        df_mo.loc[r,[u'总金额']] = df_sub.loc[r, [u'总金额']]\n",
    "        df_mo.loc[r,[u'优惠金额']] = df_sub.loc[r, [u'优惠金额']]\n",
    "    else:\n",
    "        df_mo.loc[r] = df_sub_bak[df_sub_bak[u'订单编号'] == r].iloc[0]\n",
    "df_sub.index.map(func_rep2)"
   ]
  },
  {
   "cell_type": "markdown",
   "metadata": {},
   "source": [
    "# 实例4 用户聚类分析"
   ]
  },
  {
   "cell_type": "markdown",
   "metadata": {},
   "source": [
    "* 1.首先读取全年数据\n",
    "* 2.从原表中提取用户分类因素。本例中有4个，最后使用3个\n",
    "* 3.使用K-means聚类分析（快速聚类）\n",
    "* 4.调用pyechars开源库画图"
   ]
  },
  {
   "cell_type": "code",
   "execution_count": null,
   "metadata": {
    "collapsed": true
   },
   "outputs": [],
   "source": [
    "# 加载相关库"
   ]
  },
  {
   "cell_type": "code",
   "execution_count": null,
   "metadata": {
    "collapsed": true
   },
   "outputs": [],
   "source": [
    "import pandas as pd\n",
    "import numpy as np\n",
    "from pandas import Series, DataFrame\n",
    "from datetime import datetime"
   ]
  },
  {
   "cell_type": "markdown",
   "metadata": {},
   "source": [
    "### 读取全年数据"
   ]
  },
  {
   "cell_type": "code",
   "execution_count": null,
   "metadata": {
    "collapsed": true
   },
   "outputs": [],
   "source": [
    "df1 = pd.read_excel(r\"table\\1m.xlsx\")\n",
    "df2 = pd.read_excel(r\"table\\2-5m.xlsx\")\n",
    "df3 = pd.read_excel(r\"table\\6m.xlsx\")\n",
    "df4 = pd.read_excel(r\"table\\7m.xlsx\")\n",
    "df5 = pd.read_excel(r\"table\\8m.xlsx\")\n",
    "df6 = pd.read_excel(r\"table\\201608.xlsx\")\n",
    "df7 = pd.read_excel(r\"table\\201609-10.xlsx\")\n",
    "df8 = pd.read_excel(r\"table\\201611-12.xlsx\")"
   ]
  },
  {
   "cell_type": "code",
   "execution_count": null,
   "metadata": {
    "collapsed": true
   },
   "outputs": [],
   "source": [
    "# 合并多个表数据\n",
    "df = pd.concat([df1,df2,df3,df4,df5,df6,df7,df8],ignore_index=True)"
   ]
  },
  {
   "cell_type": "markdown",
   "metadata": {},
   "source": [
    "### 从原表中提取用户分类因素"
   ]
  },
  {
   "cell_type": "code",
   "execution_count": null,
   "metadata": {
    "collapsed": true
   },
   "outputs": [],
   "source": [
    "# 因素4：独家品种金额"
   ]
  },
  {
   "cell_type": "code",
   "execution_count": null,
   "metadata": {
    "collapsed": true
   },
   "outputs": [],
   "source": [
    "# 读取条件列表\n",
    "df9 = pd.read_excel(r\"table\\dujia.xlsx\",sheetname=\"Sheet2\")\n",
    "\n",
    "# 条件表数据转换为list类型\n",
    "djsp = list(df9['编号'].values)"
   ]
  },
  {
   "cell_type": "code",
   "execution_count": null,
   "metadata": {
    "collapsed": true
   },
   "outputs": [],
   "source": [
    "status = [u'已完成', u'配送中', u'订单审核中', u'已送达', u'出库中', u'未支付']\n",
    "df_d = df[(df[u'状态'].isin(status)) & (df[u'商品编号'].isin(djsp))]"
   ]
  },
  {
   "cell_type": "code",
   "execution_count": null,
   "metadata": {
    "collapsed": true
   },
   "outputs": [],
   "source": [
    "# 分组求和\n",
    "c4 = df_d.groupby(u'下单用户')[u'商品总额'].sum()"
   ]
  },
  {
   "cell_type": "code",
   "execution_count": null,
   "metadata": {
    "collapsed": true
   },
   "outputs": [],
   "source": [
    "# 因素3：累计品规数"
   ]
  },
  {
   "cell_type": "code",
   "execution_count": null,
   "metadata": {
    "collapsed": true
   },
   "outputs": [],
   "source": [
    "df_s = df[df[u'状态'].isin(status)]"
   ]
  },
  {
   "cell_type": "code",
   "execution_count": null,
   "metadata": {
    "collapsed": true
   },
   "outputs": [],
   "source": [
    "# 1.依据“下单用户”分组，\n",
    "# 2.组内先对‘条码’去重\n",
    "# 3.对去重后的‘条码’数据求计数值，得到每个用户的“累计品规数”\n",
    "\n",
    "def func(df):\n",
    "    return df.drop_duplicates(u'条码')[u'条码'].count()\n",
    "c3 = df_s.groupby(u'下单用户').apply(func)"
   ]
  },
  {
   "cell_type": "code",
   "execution_count": null,
   "metadata": {
    "collapsed": true
   },
   "outputs": [],
   "source": [
    "# 因素1：用户最近一次的下单时间"
   ]
  },
  {
   "cell_type": "code",
   "execution_count": null,
   "metadata": {
    "collapsed": true
   },
   "outputs": [],
   "source": [
    "status1 = [u'已完成', u'配送中', u'订单审核中', u'已送达', u'出库中', u'未支付', u'已拆单']\n",
    "df_t = df[(df[u'状态'].isin(status1)) & (df[u'订单编号'].str.len() == 20)]"
   ]
  },
  {
   "cell_type": "code",
   "execution_count": null,
   "metadata": {
    "collapsed": true
   },
   "outputs": [],
   "source": [
    "# 将下单时间转换为datetime类型，便于进行时间运算\n",
    "df_t[u'下单时间'] = pd.to_datetime(df_t[u'下单时间'])"
   ]
  },
  {
   "cell_type": "code",
   "execution_count": null,
   "metadata": {
    "collapsed": true
   },
   "outputs": [],
   "source": [
    "c1 = df_t.groupby(u'下单用户')[u'下单时间'].max()"
   ]
  },
  {
   "cell_type": "code",
   "execution_count": null,
   "metadata": {
    "collapsed": true
   },
   "outputs": [],
   "source": [
    "# 因素2：近30天下单频次"
   ]
  },
  {
   "cell_type": "code",
   "execution_count": null,
   "metadata": {
    "collapsed": true
   },
   "outputs": [],
   "source": [
    "# 去重\n",
    "df_c= df_t.drop_duplicates(u'订单编号')"
   ]
  },
  {
   "cell_type": "code",
   "execution_count": null,
   "metadata": {
    "collapsed": true
   },
   "outputs": [],
   "source": [
    "# 定义时间截点（30天前）\n",
    "# 这里最理想的做法是用当前时间减去30，得到30天前的时间。不过由于时间类型的计算需要将标准时间类型转换成时间戳再计算，这里简单处理\n",
    "ago_30 = pd.to_datetime('2017-07-16')"
   ]
  },
  {
   "cell_type": "code",
   "execution_count": null,
   "metadata": {
    "collapsed": true
   },
   "outputs": [],
   "source": [
    "# 先筛选出近30天的订单，然后计算用户下单频次\n",
    "c2 = df_c[(df_c[u'下单时间']>ago_30)]\n",
    "c2 = c2.groupby(u'下单用户')[u'订单编号'].count()"
   ]
  },
  {
   "cell_type": "code",
   "execution_count": null,
   "metadata": {
    "collapsed": true
   },
   "outputs": [],
   "source": [
    "# 合并四个因素的值，创建用户表。注意合并顺序"
   ]
  },
  {
   "cell_type": "code",
   "execution_count": null,
   "metadata": {
    "collapsed": true
   },
   "outputs": [],
   "source": [
    "# 实际操作是将4个Series类型合并为一张表\n",
    "# 先将其中一个Series类型转换为DataFrame类型，然后将其余3个Series按列添加到表中\n",
    "users = DataFrame(c1)\n",
    "users[u'近30天下单频次'] = c2\n",
    "users[u'累计品规数'] = c3\n",
    "users[u'独家品种金额'] = c4"
   ]
  },
  {
   "cell_type": "code",
   "execution_count": null,
   "metadata": {
    "collapsed": true
   },
   "outputs": [],
   "source": [
    "# 处理无效值\n",
    "users = users.fillna(0)"
   ]
  },
  {
   "cell_type": "code",
   "execution_count": null,
   "metadata": {
    "collapsed": true
   },
   "outputs": [],
   "source": [
    "# 依据实际情况，选取3个分类因子。（删除用户最近一次购买时间数据）"
   ]
  },
  {
   "cell_type": "code",
   "execution_count": null,
   "metadata": {
    "collapsed": true
   },
   "outputs": [],
   "source": [
    "# 最终待分析用户表\n",
    "users1 = users.loc[:,[u'近30天下单频次',u'累计品规数',u'独家品种金额']]"
   ]
  },
  {
   "cell_type": "markdown",
   "metadata": {},
   "source": [
    "### 使用K-means聚类分析（快速聚类）"
   ]
  },
  {
   "cell_type": "code",
   "execution_count": null,
   "metadata": {
    "collapsed": true
   },
   "outputs": [],
   "source": [
    " # 数据标准化"
   ]
  },
  {
   "cell_type": "code",
   "execution_count": null,
   "metadata": {
    "collapsed": true
   },
   "outputs": [],
   "source": [
    "# 由于3个因子数据单位不同（有数量，频次，金额），必须对数据进行标准化\n",
    "# 通常有0-1标准化和z标准化，这里选用z标准化\n",
    "# Z标准化公式：1.0*(data - data.mean())/data.std()"
   ]
  },
  {
   "cell_type": "code",
   "execution_count": null,
   "metadata": {
    "collapsed": true
   },
   "outputs": [],
   "source": [
    "t1 = 1.0*(users1[u'近30天下单频次'] - users1[u'近30天下单频次'].mean())/users1[u'近30天下单频次'].std()\n",
    "t2 = 1.0*(users1[u'累计品规数'] - users1[u'累计品规数'].mean())/users1[u'累计品规数'].std()\n",
    "t3 = 1.0*(users1[u'独家品种金额'] - users1[u'独家品种金额'].mean())/users1[u'独家品种金额'].std()"
   ]
  },
  {
   "cell_type": "code",
   "execution_count": null,
   "metadata": {
    "collapsed": true
   },
   "outputs": [],
   "source": [
    "# 创建标准化数值用户表\n",
    "users_std = users1.copy()\n",
    "users_std[u'近30天下单频次'] = t1\n",
    "users_std[u'累计品规数'] = t2\n",
    "users_std[u'独家品种金额'] = t3"
   ]
  },
  {
   "cell_type": "code",
   "execution_count": null,
   "metadata": {
    "collapsed": true
   },
   "outputs": [],
   "source": [
    "# 聚类分析\n",
    "# 数值为连续值，选用k-means聚类分析"
   ]
  },
  {
   "cell_type": "code",
   "execution_count": null,
   "metadata": {
    "collapsed": true
   },
   "outputs": [],
   "source": [
    "# 指定K值（即分类数）\n",
    "# clf：分类参数值\n",
    "# y_pred：分类结果列表\n",
    "\n",
    "from sklearn.cluster import KMeans\n",
    "clf = KMeans(n_clusters=3)\n",
    "y_pred = clf.fit_predict(users_std.values)"
   ]
  },
  {
   "cell_type": "code",
   "execution_count": null,
   "metadata": {
    "collapsed": true
   },
   "outputs": [],
   "source": [
    "# 将分类结果添加到用户表\n",
    "users_std[u'分类结果'] = Series(y_pred, index = users_std.index)"
   ]
  },
  {
   "cell_type": "markdown",
   "metadata": {},
   "source": [
    "### 调用pyechars开源库画图"
   ]
  },
  {
   "cell_type": "code",
   "execution_count": null,
   "metadata": {
    "collapsed": true
   },
   "outputs": [],
   "source": [
    "# pyechars库可以绘制较为美观的图形，当然也可以用plt画图"
   ]
  },
  {
   "cell_type": "code",
   "execution_count": null,
   "metadata": {
    "collapsed": true
   },
   "outputs": [],
   "source": [
    "# 因为有三个因子，所以画个三维图。画图时不需要聚类结果数据，提前删除\n",
    "\n",
    "from pyecharts import Scatter3D\n",
    "\n",
    "scatter3D = Scatter3D(\"用户分组\", width=1200, height=600)\n",
    "scatter3D.add(\"分类0\", users_std[users_std[u'分类结果'] == 0].drop(u'分类结果',axis=1).values)\n",
    "scatter3D.add(\"分类1\", users_std[users_std[u'分类结果'] == 1].drop(u'分类结果',axis=1).values)\n",
    "scatter3D.add(\"分类2\", users_std[users_std[u'分类结果'] == 2].drop(u'分类结果',axis=1).values)\n",
    "scatter3D"
   ]
  },
  {
   "cell_type": "code",
   "execution_count": null,
   "metadata": {
    "collapsed": true
   },
   "outputs": [],
   "source": [
    "# 有时候需要原始数据图像（标准化之前的数据），再画一个原始数据图\n",
    "users_source = users1.copy()\n",
    "users_source[u'分类结果'] = Series(y_pred, index = users_source.index)\n",
    "\n",
    "scatter3D = Scatter3D(\"用户分组\", width=1200, height=600)\n",
    "scatter3D.add(\"分类0\", users_source[users_source[u'分类结果'] == 0].drop(u'分类结果',axis=1).values)\n",
    "scatter3D.add(\"分类1\", users_source[users_source[u'分类结果'] == 1].drop(u'分类结果',axis=1).values)\n",
    "scatter3D.add(\"分类2\", users_source[users_source[u'分类结果'] == 2].drop(u'分类结果',axis=1).values)\n",
    "scatter3D"
   ]
  },
  {
   "cell_type": "code",
   "execution_count": null,
   "metadata": {
    "collapsed": true
   },
   "outputs": [],
   "source": [
    "# 调整分类数为4，将用户分成4类。重复前面3类用户过程"
   ]
  },
  {
   "cell_type": "code",
   "execution_count": null,
   "metadata": {
    "collapsed": true
   },
   "outputs": [],
   "source": [
    "from sklearn.cluster import KMeans\n",
    "\n",
    "clf = KMeans(n_clusters=4)\n",
    "y_pred = clf.fit_predict(users_std.drop(u'分类结果',axis=1).values)"
   ]
  },
  {
   "cell_type": "code",
   "execution_count": null,
   "metadata": {
    "collapsed": true
   },
   "outputs": [],
   "source": [
    "# 更新分类结果\n",
    "users_std4 = users_std.copy()\n",
    "users_std4[u'分类结果'] = Series(y_pred, index = users2.index)"
   ]
  },
  {
   "cell_type": "code",
   "execution_count": null,
   "metadata": {
    "collapsed": true
   },
   "outputs": [],
   "source": [
    "scatter3D = Scatter3D(\"用户分组\", width=1200, height=600)\n",
    "scatter3D.add(\"分类0\", users_std4[users_std4[u'分类结果'] == 0].drop(u'分类结果',axis=1).values)\n",
    "scatter3D.add(\"分类1\", users_std4[users_std4[u'分类结果'] == 1].drop(u'分类结果',axis=1).values)\n",
    "scatter3D.add(\"分类2\", users_std4[users_std4[u'分类结果'] == 2].drop(u'分类结果',axis=1).values)\n",
    "scatter3D.add(\"分类3\", users_std4[users_std4[u'分类结果'] == 3].drop(u'分类结果',axis=1).values)\n",
    "scatter3D"
   ]
  },
  {
   "cell_type": "code",
   "execution_count": null,
   "metadata": {
    "collapsed": true
   },
   "outputs": [],
   "source": [
    "# 导出结果"
   ]
  },
  {
   "cell_type": "code",
   "execution_count": null,
   "metadata": {
    "collapsed": true
   },
   "outputs": [],
   "source": [
    "writer = pd.ExcelWriter('用户分组.xlsx')\n",
    "users.to_excel(writer,u'用户表4维度')\n",
    "users1.to_excel(writer,u'用户表3维度')\n",
    "users_std.to_excel(writer,u'用户标准化（3维度）数据分组')\n",
    "users_std4.to_excel(writer,u'用户标准化（4维度）数据分组')\n",
    "users_source.to_excel(writer,u'用户原数据（3维度）数据分组')\n",
    "writer.save()"
   ]
  },
  {
   "cell_type": "markdown",
   "metadata": {},
   "source": [
    "### 查看统计结果"
   ]
  },
  {
   "cell_type": "code",
   "execution_count": null,
   "metadata": {
    "collapsed": true
   },
   "outputs": [],
   "source": [
    "# 查看分类统计结果（3分类）\n",
    "users_std[u'分类结果'].value_counts()"
   ]
  },
  {
   "cell_type": "code",
   "execution_count": null,
   "metadata": {
    "collapsed": true
   },
   "outputs": [],
   "source": [
    "# 查看分类统计结果（4分类）\n",
    "users_std4[u'分类结果'].value_counts()"
   ]
  },
  {
   "cell_type": "code",
   "execution_count": null,
   "metadata": {
    "collapsed": true
   },
   "outputs": [],
   "source": [
    "# 另一种办法查看分类统计结果（样本计数）\n",
    "pd.Series(clf.labels_).value_counts()"
   ]
  },
  {
   "cell_type": "code",
   "execution_count": null,
   "metadata": {
    "collapsed": true
   },
   "outputs": [],
   "source": [
    "# 查看分类数据均值表（3分类）\n",
    "users_std.pivot_table(index =[u'分类结果'], values=[u'近30天下单频次',u'累计品规数', u'独家品种金额'], aggfunc=np.mean)"
   ]
  },
  {
   "cell_type": "code",
   "execution_count": null,
   "metadata": {
    "collapsed": true
   },
   "outputs": [],
   "source": [
    "# 查看分类数据均值表（4分类）\n",
    "users_std4.pivot_table(index =[u'分类结果'], values=[u'近30天下单频次',u'累计品规数', u'独家品种金额'], aggfunc=np.mean)"
   ]
  },
  {
   "cell_type": "code",
   "execution_count": null,
   "metadata": {
    "collapsed": true
   },
   "outputs": [],
   "source": [
    "# 如果要查看每个类别的聚类中心，可以按下面操作\n",
    "pd.DataFrame(clf.cluster_centers_)"
   ]
  },
  {
   "cell_type": "code",
   "execution_count": null,
   "metadata": {
    "collapsed": true
   },
   "outputs": [],
   "source": [
    "# 附：matplotlib库图像（参考）\n",
    "# 平面图展示\n",
    "from sklearn.decomposition import PCA\n",
    "import matplotlib.pyplot as plt\n",
    "plt.rc('figure', figsize=(10, 6))\n",
    "pca = PCA()\n",
    "data =pca.fit_transform(users_std.values)\n",
    "data = pd.DataFrame(data,index=users_std.index)\n",
    "d = data[clf.labels_==0]\n",
    "plt.plot(d[0],d[1],'r.')\n",
    "d = data[clf.labels_==1]\n",
    "plt.plot(d[0],d[1],'go')\n",
    "d = data[clf.labels_==2]\n",
    "plt.plot(d[0],d[1],'b*')\n",
    "plt.show()"
   ]
  }
 ],
 "metadata": {
  "kernelspec": {
   "display_name": "Python 2",
   "language": "python",
   "name": "python2"
  },
  "language_info": {
   "codemirror_mode": {
    "name": "ipython",
    "version": 2
   },
   "file_extension": ".py",
   "mimetype": "text/x-python",
   "name": "python",
   "nbconvert_exporter": "python",
   "pygments_lexer": "ipython2",
   "version": "2.7.13"
  }
 },
 "nbformat": 4,
 "nbformat_minor": 2
}
